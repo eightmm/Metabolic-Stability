{
 "cells": [
  {
   "cell_type": "code",
   "execution_count": 2,
   "id": "0ba46fe9-2d56-40a8-bfbc-0762cf8a13d1",
   "metadata": {
    "tags": []
   },
   "outputs": [],
   "source": [
    "import torch, dgl\n",
    "\n",
    "import numpy as np\n",
    "import pandas as pd\n",
    "\n",
    "from tqdm import tqdm\n",
    "from glob import glob\n",
    "from collections import defaultdict\n",
    "\n",
    "from mordred import Calculator, descriptors\n",
    "from rdkit import Chem, RDLogger\n",
    "from rdkit.Chem import AllChem\n",
    "RDLogger.DisableLog('rdApp.*')\n",
    "\n",
    "from dgl.data.utils import save_graphs\n",
    "\n",
    "from feature import *\n",
    "from utils import load_obj, calculate_pair_distance"
   ]
  },
  {
   "cell_type": "markdown",
   "id": "91399bbf-298d-4732-9202-39761a1b5b80",
   "metadata": {
    "tags": []
   },
   "source": [
    "# Data load"
   ]
  },
  {
   "cell_type": "code",
   "execution_count": 4,
   "id": "2cb0686d-ba51-4a9b-b477-c244fd4e65b5",
   "metadata": {
    "tags": []
   },
   "outputs": [],
   "source": [
    "train = pd.read_csv('/home/sim/project/MSP/data_file/train.csv')\n",
    "test  = pd.read_csv('/home/sim/project/MSP/data_file/test_paper.csv')"
   ]
  },
  {
   "cell_type": "code",
   "execution_count": 10,
   "id": "f533dffd-24ab-4285-bf40-95b020bbb7d4",
   "metadata": {
    "tags": []
   },
   "outputs": [],
   "source": [
    "train_mols = { idx: Chem.MolFromSmiles(smiles) for idx, (value, smiles) in enumerate( zip( train['label'], train['smiles'] ) ) }\n",
    "test_mols  = { idx: Chem.MolFromSmiles(smiles) for idx, (value, smiles) in enumerate( zip( test['label'], test['smiles'] ) ) }\n",
    "train_label = train.label\n",
    "test_label = test.label"
   ]
  },
  {
   "cell_type": "markdown",
   "id": "51230ba3-06c7-4348-b429-20b34ec6fdcb",
   "metadata": {
    "tags": []
   },
   "source": [
    "# Mordred descriptor"
   ]
  },
  {
   "cell_type": "code",
   "execution_count": 12,
   "id": "3ff78c61-1f60-45e2-9557-88a52d34a9c0",
   "metadata": {
    "scrolled": true,
    "tags": []
   },
   "outputs": [
    {
     "name": "stderr",
     "output_type": "stream",
     "text": [
      " 25%|█████████▉                              | 737/2970 [01:18<03:41, 10.10it/s]"
     ]
    },
    {
     "name": "stdout",
     "output_type": "stream",
     "text": [
      "/home/sim/anaconda3/envs/MSP/lib/python3.8/site-packages/numpy/core/fromnumeric.py:86: RuntimeWarning: overflow encountered in reduce\n",
      "  return ufunc.reduce(obj, axis, dtype, out, **passkwargs)\n"
     ]
    },
    {
     "name": "stderr",
     "output_type": "stream",
     "text": [
      " 32%|████████████▉                           | 961/2970 [01:38<03:32,  9.44it/s]"
     ]
    },
    {
     "name": "stdout",
     "output_type": "stream",
     "text": [
      "/home/sim/anaconda3/envs/MSP/lib/python3.8/site-packages/numpy/core/fromnumeric.py:86: RuntimeWarning: overflow encountered in reduce\n",
      "  return ufunc.reduce(obj, axis, dtype, out, **passkwargs)\n"
     ]
    },
    {
     "name": "stderr",
     "output_type": "stream",
     "text": [
      " 33%|█████████████                           | 968/2970 [01:39<03:44,  8.90it/s]"
     ]
    },
    {
     "name": "stdout",
     "output_type": "stream",
     "text": [
      "/home/sim/anaconda3/envs/MSP/lib/python3.8/site-packages/numpy/core/fromnumeric.py:86: RuntimeWarning: overflow encountered in reduce\n",
      "  return ufunc.reduce(obj, axis, dtype, out, **passkwargs)\n"
     ]
    },
    {
     "name": "stderr",
     "output_type": "stream",
     "text": [
      " 39%|███████████████                        | 1148/2970 [01:55<04:43,  6.42it/s]"
     ]
    },
    {
     "name": "stdout",
     "output_type": "stream",
     "text": [
      "/home/sim/anaconda3/envs/MSP/lib/python3.8/site-packages/numpy/core/fromnumeric.py:86: RuntimeWarning: overflow encountered in reduce\n",
      "  return ufunc.reduce(obj, axis, dtype, out, **passkwargs)\n"
     ]
    },
    {
     "name": "stderr",
     "output_type": "stream",
     "text": [
      " 41%|███████████████▊                       | 1206/2970 [02:00<02:33, 11.52it/s]"
     ]
    },
    {
     "name": "stdout",
     "output_type": "stream",
     "text": [
      "/home/sim/anaconda3/envs/MSP/lib/python3.8/site-packages/numpy/core/fromnumeric.py:86: RuntimeWarning: overflow encountered in reduce\n",
      "  return ufunc.reduce(obj, axis, dtype, out, **passkwargs)\n"
     ]
    },
    {
     "name": "stderr",
     "output_type": "stream",
     "text": [
      " 49%|███████████████████▏                   | 1459/2970 [02:21<02:32,  9.89it/s]"
     ]
    },
    {
     "name": "stdout",
     "output_type": "stream",
     "text": [
      "/home/sim/anaconda3/envs/MSP/lib/python3.8/site-packages/numpy/core/fromnumeric.py:86: RuntimeWarning: overflow encountered in reduce\n",
      "  return ufunc.reduce(obj, axis, dtype, out, **passkwargs)\n"
     ]
    },
    {
     "name": "stderr",
     "output_type": "stream",
     "text": [
      " 51%|████████████████████                   | 1527/2970 [02:27<01:21, 17.80it/s]"
     ]
    },
    {
     "name": "stdout",
     "output_type": "stream",
     "text": [
      "/home/sim/anaconda3/envs/MSP/lib/python3.8/site-packages/numpy/core/fromnumeric.py:86: RuntimeWarning: overflow encountered in reduce\n",
      "  return ufunc.reduce(obj, axis, dtype, out, **passkwargs)\n"
     ]
    },
    {
     "name": "stderr",
     "output_type": "stream",
     "text": [
      " 87%|█████████████████████████████████▉     | 2581/2970 [04:34<00:45,  8.63it/s]"
     ]
    },
    {
     "name": "stdout",
     "output_type": "stream",
     "text": [
      "/home/sim/anaconda3/envs/MSP/lib/python3.8/site-packages/numpy/core/fromnumeric.py:86: RuntimeWarning: overflow encountered in reduce\n",
      "  return ufunc.reduce(obj, axis, dtype, out, **passkwargs)\n"
     ]
    },
    {
     "name": "stderr",
     "output_type": "stream",
     "text": [
      "100%|███████████████████████████████████████| 2970/2970 [05:15<00:00,  9.42it/s]\n",
      "100%|███████████████████████████████████████████| 61/61 [00:05<00:00, 11.69it/s]\n"
     ]
    }
   ],
   "source": [
    "calc = Calculator(descriptors, ignore_3D=True)\n",
    "train_mordred = calc.pandas(train_mols.values())\n",
    "test_mordred  = calc.pandas(test_mols.values())"
   ]
  },
  {
   "cell_type": "code",
   "execution_count": 13,
   "id": "d34f41ac-67b9-4b72-a5b4-582a0d708f96",
   "metadata": {
    "tags": []
   },
   "outputs": [],
   "source": [
    "mordred = pd.concat( [train_mordred, test_mordred] ).astype(float).dropna(axis=1)"
   ]
  },
  {
   "cell_type": "code",
   "execution_count": 16,
   "id": "c2588c0d-0380-4119-b3d5-7f0ba61d4ae5",
   "metadata": {
    "tags": []
   },
   "outputs": [],
   "source": [
    "# train_mordred = mordred.iloc[:3498, :]\n",
    "# test_mordred  = mordred.iloc[3498:, :]"
   ]
  },
  {
   "cell_type": "code",
   "execution_count": 14,
   "id": "f7f8c340-3ad6-4913-af4f-02b6826f1fd0",
   "metadata": {
    "tags": []
   },
   "outputs": [
    {
     "ename": "TypeError",
     "evalue": "'>=' not supported between instances of 'Error' and 'Error'",
     "output_type": "error",
     "traceback": [
      "\u001b[0;31m---------------------------------------------------------------------------\u001b[0m",
      "\u001b[0;31mTypeError\u001b[0m                                 Traceback (most recent call last)",
      "Cell \u001b[0;32mIn[14], line 1\u001b[0m\n\u001b[0;32m----> 1\u001b[0m \u001b[38;5;28mmax\u001b[39m  \u001b[38;5;241m=\u001b[39m \u001b[43mtrain_mordred\u001b[49m\u001b[38;5;241;43m.\u001b[39;49m\u001b[43mmax\u001b[49m\u001b[43m(\u001b[49m\u001b[43m)\u001b[49m\n\u001b[1;32m      2\u001b[0m mean \u001b[38;5;241m=\u001b[39m train_mordred\u001b[38;5;241m.\u001b[39mmean()\n\u001b[1;32m      3\u001b[0m std  \u001b[38;5;241m=\u001b[39m train_mordred\u001b[38;5;241m.\u001b[39mstd()\n",
      "File \u001b[0;32m~/anaconda3/envs/MSP/lib/python3.8/site-packages/pandas/core/generic.py:11646\u001b[0m, in \u001b[0;36mNDFrame._add_numeric_operations.<locals>.max\u001b[0;34m(self, axis, skipna, numeric_only, **kwargs)\u001b[0m\n\u001b[1;32m  11627\u001b[0m \u001b[38;5;129m@doc\u001b[39m(\n\u001b[1;32m  11628\u001b[0m     _num_doc,\n\u001b[1;32m  11629\u001b[0m     desc\u001b[38;5;241m=\u001b[39m\u001b[38;5;124m\"\u001b[39m\u001b[38;5;124mReturn the maximum of the values over the requested axis.\u001b[39m\u001b[38;5;130;01m\\n\u001b[39;00m\u001b[38;5;130;01m\\n\u001b[39;00m\u001b[38;5;124m\"\u001b[39m\n\u001b[0;32m   (...)\u001b[0m\n\u001b[1;32m  11644\u001b[0m     \u001b[38;5;241m*\u001b[39m\u001b[38;5;241m*\u001b[39mkwargs,\n\u001b[1;32m  11645\u001b[0m ):\n\u001b[0;32m> 11646\u001b[0m     \u001b[38;5;28;01mreturn\u001b[39;00m \u001b[43mNDFrame\u001b[49m\u001b[38;5;241;43m.\u001b[39;49m\u001b[43mmax\u001b[49m\u001b[43m(\u001b[49m\u001b[38;5;28;43mself\u001b[39;49m\u001b[43m,\u001b[49m\u001b[43m \u001b[49m\u001b[43maxis\u001b[49m\u001b[43m,\u001b[49m\u001b[43m \u001b[49m\u001b[43mskipna\u001b[49m\u001b[43m,\u001b[49m\u001b[43m \u001b[49m\u001b[43mnumeric_only\u001b[49m\u001b[43m,\u001b[49m\u001b[43m \u001b[49m\u001b[38;5;241;43m*\u001b[39;49m\u001b[38;5;241;43m*\u001b[39;49m\u001b[43mkwargs\u001b[49m\u001b[43m)\u001b[49m\n",
      "File \u001b[0;32m~/anaconda3/envs/MSP/lib/python3.8/site-packages/pandas/core/generic.py:11185\u001b[0m, in \u001b[0;36mNDFrame.max\u001b[0;34m(self, axis, skipna, numeric_only, **kwargs)\u001b[0m\n\u001b[1;32m  11178\u001b[0m \u001b[38;5;28;01mdef\u001b[39;00m \u001b[38;5;21mmax\u001b[39m(\n\u001b[1;32m  11179\u001b[0m     \u001b[38;5;28mself\u001b[39m,\n\u001b[1;32m  11180\u001b[0m     axis: Axis \u001b[38;5;241m|\u001b[39m \u001b[38;5;28;01mNone\u001b[39;00m \u001b[38;5;241m=\u001b[39m \u001b[38;5;241m0\u001b[39m,\n\u001b[0;32m   (...)\u001b[0m\n\u001b[1;32m  11183\u001b[0m     \u001b[38;5;241m*\u001b[39m\u001b[38;5;241m*\u001b[39mkwargs,\n\u001b[1;32m  11184\u001b[0m ):\n\u001b[0;32m> 11185\u001b[0m     \u001b[38;5;28;01mreturn\u001b[39;00m \u001b[38;5;28;43mself\u001b[39;49m\u001b[38;5;241;43m.\u001b[39;49m\u001b[43m_stat_function\u001b[49m\u001b[43m(\u001b[49m\n\u001b[1;32m  11186\u001b[0m \u001b[43m        \u001b[49m\u001b[38;5;124;43m\"\u001b[39;49m\u001b[38;5;124;43mmax\u001b[39;49m\u001b[38;5;124;43m\"\u001b[39;49m\u001b[43m,\u001b[49m\n\u001b[1;32m  11187\u001b[0m \u001b[43m        \u001b[49m\u001b[43mnanops\u001b[49m\u001b[38;5;241;43m.\u001b[39;49m\u001b[43mnanmax\u001b[49m\u001b[43m,\u001b[49m\n\u001b[1;32m  11188\u001b[0m \u001b[43m        \u001b[49m\u001b[43maxis\u001b[49m\u001b[43m,\u001b[49m\n\u001b[1;32m  11189\u001b[0m \u001b[43m        \u001b[49m\u001b[43mskipna\u001b[49m\u001b[43m,\u001b[49m\n\u001b[1;32m  11190\u001b[0m \u001b[43m        \u001b[49m\u001b[43mnumeric_only\u001b[49m\u001b[43m,\u001b[49m\n\u001b[1;32m  11191\u001b[0m \u001b[43m        \u001b[49m\u001b[38;5;241;43m*\u001b[39;49m\u001b[38;5;241;43m*\u001b[39;49m\u001b[43mkwargs\u001b[49m\u001b[43m,\u001b[49m\n\u001b[1;32m  11192\u001b[0m \u001b[43m    \u001b[49m\u001b[43m)\u001b[49m\n",
      "File \u001b[0;32m~/anaconda3/envs/MSP/lib/python3.8/site-packages/pandas/core/generic.py:11158\u001b[0m, in \u001b[0;36mNDFrame._stat_function\u001b[0;34m(self, name, func, axis, skipna, numeric_only, **kwargs)\u001b[0m\n\u001b[1;32m  11154\u001b[0m     nv\u001b[38;5;241m.\u001b[39mvalidate_stat_func((), kwargs, fname\u001b[38;5;241m=\u001b[39mname)\n\u001b[1;32m  11156\u001b[0m validate_bool_kwarg(skipna, \u001b[38;5;124m\"\u001b[39m\u001b[38;5;124mskipna\u001b[39m\u001b[38;5;124m\"\u001b[39m, none_allowed\u001b[38;5;241m=\u001b[39m\u001b[38;5;28;01mFalse\u001b[39;00m)\n\u001b[0;32m> 11158\u001b[0m \u001b[38;5;28;01mreturn\u001b[39;00m \u001b[38;5;28;43mself\u001b[39;49m\u001b[38;5;241;43m.\u001b[39;49m\u001b[43m_reduce\u001b[49m\u001b[43m(\u001b[49m\n\u001b[1;32m  11159\u001b[0m \u001b[43m    \u001b[49m\u001b[43mfunc\u001b[49m\u001b[43m,\u001b[49m\u001b[43m \u001b[49m\u001b[43mname\u001b[49m\u001b[38;5;241;43m=\u001b[39;49m\u001b[43mname\u001b[49m\u001b[43m,\u001b[49m\u001b[43m \u001b[49m\u001b[43maxis\u001b[49m\u001b[38;5;241;43m=\u001b[39;49m\u001b[43maxis\u001b[49m\u001b[43m,\u001b[49m\u001b[43m \u001b[49m\u001b[43mskipna\u001b[49m\u001b[38;5;241;43m=\u001b[39;49m\u001b[43mskipna\u001b[49m\u001b[43m,\u001b[49m\u001b[43m \u001b[49m\u001b[43mnumeric_only\u001b[49m\u001b[38;5;241;43m=\u001b[39;49m\u001b[43mnumeric_only\u001b[49m\n\u001b[1;32m  11160\u001b[0m \u001b[43m\u001b[49m\u001b[43m)\u001b[49m\n",
      "File \u001b[0;32m~/anaconda3/envs/MSP/lib/python3.8/site-packages/pandas/core/frame.py:10519\u001b[0m, in \u001b[0;36mDataFrame._reduce\u001b[0;34m(self, op, name, axis, skipna, numeric_only, filter_type, **kwds)\u001b[0m\n\u001b[1;32m  10515\u001b[0m     df \u001b[38;5;241m=\u001b[39m df\u001b[38;5;241m.\u001b[39mT\n\u001b[1;32m  10517\u001b[0m \u001b[38;5;66;03m# After possibly _get_data and transposing, we are now in the\u001b[39;00m\n\u001b[1;32m  10518\u001b[0m \u001b[38;5;66;03m#  simple case where we can use BlockManager.reduce\u001b[39;00m\n\u001b[0;32m> 10519\u001b[0m res \u001b[38;5;241m=\u001b[39m \u001b[43mdf\u001b[49m\u001b[38;5;241;43m.\u001b[39;49m\u001b[43m_mgr\u001b[49m\u001b[38;5;241;43m.\u001b[39;49m\u001b[43mreduce\u001b[49m\u001b[43m(\u001b[49m\u001b[43mblk_func\u001b[49m\u001b[43m)\u001b[49m\n\u001b[1;32m  10520\u001b[0m out \u001b[38;5;241m=\u001b[39m df\u001b[38;5;241m.\u001b[39m_constructor(res)\u001b[38;5;241m.\u001b[39miloc[\u001b[38;5;241m0\u001b[39m]\n\u001b[1;32m  10521\u001b[0m \u001b[38;5;28;01mif\u001b[39;00m out_dtype \u001b[38;5;129;01mis\u001b[39;00m \u001b[38;5;129;01mnot\u001b[39;00m \u001b[38;5;28;01mNone\u001b[39;00m:\n",
      "File \u001b[0;32m~/anaconda3/envs/MSP/lib/python3.8/site-packages/pandas/core/internals/managers.py:1534\u001b[0m, in \u001b[0;36mBlockManager.reduce\u001b[0;34m(self, func)\u001b[0m\n\u001b[1;32m   1532\u001b[0m res_blocks: \u001b[38;5;28mlist\u001b[39m[Block] \u001b[38;5;241m=\u001b[39m []\n\u001b[1;32m   1533\u001b[0m \u001b[38;5;28;01mfor\u001b[39;00m blk \u001b[38;5;129;01min\u001b[39;00m \u001b[38;5;28mself\u001b[39m\u001b[38;5;241m.\u001b[39mblocks:\n\u001b[0;32m-> 1534\u001b[0m     nbs \u001b[38;5;241m=\u001b[39m \u001b[43mblk\u001b[49m\u001b[38;5;241;43m.\u001b[39;49m\u001b[43mreduce\u001b[49m\u001b[43m(\u001b[49m\u001b[43mfunc\u001b[49m\u001b[43m)\u001b[49m\n\u001b[1;32m   1535\u001b[0m     res_blocks\u001b[38;5;241m.\u001b[39mextend(nbs)\n\u001b[1;32m   1537\u001b[0m index \u001b[38;5;241m=\u001b[39m Index([\u001b[38;5;28;01mNone\u001b[39;00m])  \u001b[38;5;66;03m# placeholder\u001b[39;00m\n",
      "File \u001b[0;32m~/anaconda3/envs/MSP/lib/python3.8/site-packages/pandas/core/internals/blocks.py:339\u001b[0m, in \u001b[0;36mBlock.reduce\u001b[0;34m(self, func)\u001b[0m\n\u001b[1;32m    333\u001b[0m \u001b[38;5;129m@final\u001b[39m\n\u001b[1;32m    334\u001b[0m \u001b[38;5;28;01mdef\u001b[39;00m \u001b[38;5;21mreduce\u001b[39m(\u001b[38;5;28mself\u001b[39m, func) \u001b[38;5;241m-\u001b[39m\u001b[38;5;241m>\u001b[39m \u001b[38;5;28mlist\u001b[39m[Block]:\n\u001b[1;32m    335\u001b[0m     \u001b[38;5;66;03m# We will apply the function and reshape the result into a single-row\u001b[39;00m\n\u001b[1;32m    336\u001b[0m     \u001b[38;5;66;03m#  Block with the same mgr_locs; squeezing will be done at a higher level\u001b[39;00m\n\u001b[1;32m    337\u001b[0m     \u001b[38;5;28;01massert\u001b[39;00m \u001b[38;5;28mself\u001b[39m\u001b[38;5;241m.\u001b[39mndim \u001b[38;5;241m==\u001b[39m \u001b[38;5;241m2\u001b[39m\n\u001b[0;32m--> 339\u001b[0m     result \u001b[38;5;241m=\u001b[39m \u001b[43mfunc\u001b[49m\u001b[43m(\u001b[49m\u001b[38;5;28;43mself\u001b[39;49m\u001b[38;5;241;43m.\u001b[39;49m\u001b[43mvalues\u001b[49m\u001b[43m)\u001b[49m\n\u001b[1;32m    341\u001b[0m     \u001b[38;5;28;01mif\u001b[39;00m \u001b[38;5;28mself\u001b[39m\u001b[38;5;241m.\u001b[39mvalues\u001b[38;5;241m.\u001b[39mndim \u001b[38;5;241m==\u001b[39m \u001b[38;5;241m1\u001b[39m:\n\u001b[1;32m    342\u001b[0m         \u001b[38;5;66;03m# TODO(EA2D): special case not needed with 2D EAs\u001b[39;00m\n\u001b[1;32m    343\u001b[0m         res_values \u001b[38;5;241m=\u001b[39m np\u001b[38;5;241m.\u001b[39marray([[result]])\n",
      "File \u001b[0;32m~/anaconda3/envs/MSP/lib/python3.8/site-packages/pandas/core/frame.py:10482\u001b[0m, in \u001b[0;36mDataFrame._reduce.<locals>.blk_func\u001b[0;34m(values, axis)\u001b[0m\n\u001b[1;32m  10480\u001b[0m     \u001b[38;5;28;01mreturn\u001b[39;00m values\u001b[38;5;241m.\u001b[39m_reduce(name, skipna\u001b[38;5;241m=\u001b[39mskipna, \u001b[38;5;241m*\u001b[39m\u001b[38;5;241m*\u001b[39mkwds)\n\u001b[1;32m  10481\u001b[0m \u001b[38;5;28;01melse\u001b[39;00m:\n\u001b[0;32m> 10482\u001b[0m     \u001b[38;5;28;01mreturn\u001b[39;00m \u001b[43mop\u001b[49m\u001b[43m(\u001b[49m\u001b[43mvalues\u001b[49m\u001b[43m,\u001b[49m\u001b[43m \u001b[49m\u001b[43maxis\u001b[49m\u001b[38;5;241;43m=\u001b[39;49m\u001b[43maxis\u001b[49m\u001b[43m,\u001b[49m\u001b[43m \u001b[49m\u001b[43mskipna\u001b[49m\u001b[38;5;241;43m=\u001b[39;49m\u001b[43mskipna\u001b[49m\u001b[43m,\u001b[49m\u001b[43m \u001b[49m\u001b[38;5;241;43m*\u001b[39;49m\u001b[38;5;241;43m*\u001b[39;49m\u001b[43mkwds\u001b[49m\u001b[43m)\u001b[49m\n",
      "File \u001b[0;32m~/anaconda3/envs/MSP/lib/python3.8/site-packages/pandas/core/nanops.py:158\u001b[0m, in \u001b[0;36mbottleneck_switch.__call__.<locals>.f\u001b[0;34m(values, axis, skipna, **kwds)\u001b[0m\n\u001b[1;32m    156\u001b[0m         result \u001b[38;5;241m=\u001b[39m alt(values, axis\u001b[38;5;241m=\u001b[39maxis, skipna\u001b[38;5;241m=\u001b[39mskipna, \u001b[38;5;241m*\u001b[39m\u001b[38;5;241m*\u001b[39mkwds)\n\u001b[1;32m    157\u001b[0m \u001b[38;5;28;01melse\u001b[39;00m:\n\u001b[0;32m--> 158\u001b[0m     result \u001b[38;5;241m=\u001b[39m \u001b[43malt\u001b[49m\u001b[43m(\u001b[49m\u001b[43mvalues\u001b[49m\u001b[43m,\u001b[49m\u001b[43m \u001b[49m\u001b[43maxis\u001b[49m\u001b[38;5;241;43m=\u001b[39;49m\u001b[43maxis\u001b[49m\u001b[43m,\u001b[49m\u001b[43m \u001b[49m\u001b[43mskipna\u001b[49m\u001b[38;5;241;43m=\u001b[39;49m\u001b[43mskipna\u001b[49m\u001b[43m,\u001b[49m\u001b[43m \u001b[49m\u001b[38;5;241;43m*\u001b[39;49m\u001b[38;5;241;43m*\u001b[39;49m\u001b[43mkwds\u001b[49m\u001b[43m)\u001b[49m\n\u001b[1;32m    160\u001b[0m \u001b[38;5;28;01mreturn\u001b[39;00m result\n",
      "File \u001b[0;32m~/anaconda3/envs/MSP/lib/python3.8/site-packages/pandas/core/nanops.py:421\u001b[0m, in \u001b[0;36m_datetimelike_compat.<locals>.new_func\u001b[0;34m(values, axis, skipna, mask, **kwargs)\u001b[0m\n\u001b[1;32m    418\u001b[0m \u001b[38;5;28;01mif\u001b[39;00m datetimelike \u001b[38;5;129;01mand\u001b[39;00m mask \u001b[38;5;129;01mis\u001b[39;00m \u001b[38;5;28;01mNone\u001b[39;00m:\n\u001b[1;32m    419\u001b[0m     mask \u001b[38;5;241m=\u001b[39m isna(values)\n\u001b[0;32m--> 421\u001b[0m result \u001b[38;5;241m=\u001b[39m \u001b[43mfunc\u001b[49m\u001b[43m(\u001b[49m\u001b[43mvalues\u001b[49m\u001b[43m,\u001b[49m\u001b[43m \u001b[49m\u001b[43maxis\u001b[49m\u001b[38;5;241;43m=\u001b[39;49m\u001b[43maxis\u001b[49m\u001b[43m,\u001b[49m\u001b[43m \u001b[49m\u001b[43mskipna\u001b[49m\u001b[38;5;241;43m=\u001b[39;49m\u001b[43mskipna\u001b[49m\u001b[43m,\u001b[49m\u001b[43m \u001b[49m\u001b[43mmask\u001b[49m\u001b[38;5;241;43m=\u001b[39;49m\u001b[43mmask\u001b[49m\u001b[43m,\u001b[49m\u001b[43m \u001b[49m\u001b[38;5;241;43m*\u001b[39;49m\u001b[38;5;241;43m*\u001b[39;49m\u001b[43mkwargs\u001b[49m\u001b[43m)\u001b[49m\n\u001b[1;32m    423\u001b[0m \u001b[38;5;28;01mif\u001b[39;00m datetimelike:\n\u001b[1;32m    424\u001b[0m     result \u001b[38;5;241m=\u001b[39m _wrap_results(result, orig_values\u001b[38;5;241m.\u001b[39mdtype, fill_value\u001b[38;5;241m=\u001b[39miNaT)\n",
      "File \u001b[0;32m~/anaconda3/envs/MSP/lib/python3.8/site-packages/pandas/core/nanops.py:1094\u001b[0m, in \u001b[0;36m_nanminmax.<locals>.reduction\u001b[0;34m(values, axis, skipna, mask)\u001b[0m\n\u001b[1;32m   1092\u001b[0m         result \u001b[38;5;241m=\u001b[39m np\u001b[38;5;241m.\u001b[39mnan\n\u001b[1;32m   1093\u001b[0m \u001b[38;5;28;01melse\u001b[39;00m:\n\u001b[0;32m-> 1094\u001b[0m     result \u001b[38;5;241m=\u001b[39m \u001b[38;5;28;43mgetattr\u001b[39;49m\u001b[43m(\u001b[49m\u001b[43mvalues\u001b[49m\u001b[43m,\u001b[49m\u001b[43m \u001b[49m\u001b[43mmeth\u001b[49m\u001b[43m)\u001b[49m\u001b[43m(\u001b[49m\u001b[43maxis\u001b[49m\u001b[43m)\u001b[49m\n\u001b[1;32m   1096\u001b[0m result \u001b[38;5;241m=\u001b[39m _maybe_null_out(result, axis, mask, values\u001b[38;5;241m.\u001b[39mshape)\n\u001b[1;32m   1097\u001b[0m \u001b[38;5;28;01mreturn\u001b[39;00m result\n",
      "File \u001b[0;32m~/anaconda3/envs/MSP/lib/python3.8/site-packages/numpy/core/_methods.py:41\u001b[0m, in \u001b[0;36m_amax\u001b[0;34m(a, axis, out, keepdims, initial, where)\u001b[0m\n\u001b[1;32m     39\u001b[0m \u001b[38;5;28;01mdef\u001b[39;00m \u001b[38;5;21m_amax\u001b[39m(a, axis\u001b[38;5;241m=\u001b[39m\u001b[38;5;28;01mNone\u001b[39;00m, out\u001b[38;5;241m=\u001b[39m\u001b[38;5;28;01mNone\u001b[39;00m, keepdims\u001b[38;5;241m=\u001b[39m\u001b[38;5;28;01mFalse\u001b[39;00m,\n\u001b[1;32m     40\u001b[0m           initial\u001b[38;5;241m=\u001b[39m_NoValue, where\u001b[38;5;241m=\u001b[39m\u001b[38;5;28;01mTrue\u001b[39;00m):\n\u001b[0;32m---> 41\u001b[0m     \u001b[38;5;28;01mreturn\u001b[39;00m \u001b[43mumr_maximum\u001b[49m\u001b[43m(\u001b[49m\u001b[43ma\u001b[49m\u001b[43m,\u001b[49m\u001b[43m \u001b[49m\u001b[43maxis\u001b[49m\u001b[43m,\u001b[49m\u001b[43m \u001b[49m\u001b[38;5;28;43;01mNone\u001b[39;49;00m\u001b[43m,\u001b[49m\u001b[43m \u001b[49m\u001b[43mout\u001b[49m\u001b[43m,\u001b[49m\u001b[43m \u001b[49m\u001b[43mkeepdims\u001b[49m\u001b[43m,\u001b[49m\u001b[43m \u001b[49m\u001b[43minitial\u001b[49m\u001b[43m,\u001b[49m\u001b[43m \u001b[49m\u001b[43mwhere\u001b[49m\u001b[43m)\u001b[49m\n",
      "\u001b[0;31mTypeError\u001b[0m: '>=' not supported between instances of 'Error' and 'Error'"
     ]
    }
   ],
   "source": [
    "max  = train_mordred.max()\n",
    "mean = train_mordred.mean()\n",
    "std  = train_mordred.std()"
   ]
  },
  {
   "cell_type": "code",
   "execution_count": null,
   "id": "23c084a3-bc71-440e-9d81-5b7c7cf7ae63",
   "metadata": {},
   "outputs": [],
   "source": [
    "max"
   ]
  },
  {
   "cell_type": "code",
   "execution_count": 10,
   "id": "a9be60b7-1766-4605-95c4-ad1d6c17b4bc",
   "metadata": {
    "tags": []
   },
   "outputs": [],
   "source": [
    "train_mordred = (train_mordred - mean) / std\n",
    "test_mordred  = (test_mordred - mean) / std"
   ]
  },
  {
   "cell_type": "markdown",
   "id": "a8c0b421-e700-4b90-924f-3ed5a9c29dbe",
   "metadata": {
    "tags": []
   },
   "source": [
    "# Finger Print"
   ]
  },
  {
   "cell_type": "code",
   "execution_count": 5,
   "id": "13eb6b12-fc0d-4794-9095-b8c82c73e542",
   "metadata": {
    "tags": []
   },
   "outputs": [],
   "source": [
    "radius = 2\n",
    "nBits = 1024\n",
    "\n",
    "morgan = [ AllChem.GetMorganFingerprintAsBitVect(mol, radius=radius, nBits=nBits) for mol in train_mols.values() ]\n",
    "train_morgan = pd.DataFrame( [ list(l) for l in morgan ] )\n",
    "\n",
    "morgan = [ AllChem.GetMorganFingerprintAsBitVect(mol, radius=radius, nBits=nBits) for mol in test1_mols.values() ]\n",
    "test1_morgan = pd.DataFrame( [ list(l) for l in morgan ] )\n",
    "\n",
    "morgan = [ AllChem.GetMorganFingerprintAsBitVect(mol, radius=radius, nBits=nBits) for mol in test2_mols.values() ]\n",
    "test2_morgan = pd.DataFrame( [ list(l) for l in morgan ] )\n",
    "\n",
    "morgan = [ AllChem.GetMorganFingerprintAsBitVect(mol, radius=radius, nBits=nBits) for mol in test3_mols.values() ]\n",
    "test3_morgan = pd.DataFrame( [ list(l) for l in morgan ] )"
   ]
  },
  {
   "cell_type": "markdown",
   "id": "e9335f58-612b-47cc-afba-03996e4533d2",
   "metadata": {
    "tags": []
   },
   "source": [
    "# Graph"
   ]
  },
  {
   "cell_type": "code",
   "execution_count": 4,
   "id": "175daff7-c9a2-4209-a442-3796d2bd3ac6",
   "metadata": {
    "tags": []
   },
   "outputs": [],
   "source": [
    "def mol_to_graph( mol ):\n",
    "    n    = mol.GetNumAtoms()\n",
    "    h    = get_atom_feature(mol)\n",
    "    adj  = get_bond_feature(mol).to_sparse(sparse_dim=2)\n",
    "    vn_h = torch.mean( h, dim=0 ).unsqueeze(0)\n",
    "\n",
    "    h = torch.cat( (h, vn_h), dim=0 )\n",
    "\n",
    "    u = adj.indices()[0]\n",
    "    v = adj.indices()[1]\n",
    "    e = adj.values()\n",
    "    \n",
    "    ve = torch.tensor( [ (n, i) for i in range(n) ] + [ (i, n) for i in range(n) ] )\n",
    "    \n",
    "    ve_u = ve[:, 0]\n",
    "    ve_v = ve[:, 1]\n",
    "        \n",
    "    u = torch.cat( (u, ve_u) )\n",
    "    v = torch.cat( (v, ve_v) )\n",
    "\n",
    "    num_ve = ve.shape[0]\n",
    "    e_dim  = e.shape[1]\n",
    "    ve_e = torch.zeros( (num_ve, e_dim) )\n",
    "\n",
    "    e = torch.cat( (e, ve_e), dim=0 )\n",
    "    \n",
    "    g = dgl.DGLGraph()\n",
    "    g.add_nodes( n + 1 )\n",
    "    g.add_edges( u, v )\n",
    "\n",
    "    g.ndata['feats'] = h\n",
    "    g.edata['feats'] = e\n",
    "\n",
    "    return g"
   ]
  },
  {
   "cell_type": "code",
   "execution_count": 9,
   "id": "b27a8a90-0885-4048-b054-fd08779a4f07",
   "metadata": {
    "tags": []
   },
   "outputs": [],
   "source": [
    "train_morgan_tensor  = torch.tensor( train_morgan.values ).float()\n",
    "test1_morgan_tensor  = torch.tensor( test1_morgan.values ).float()\n",
    "test2_morgan_tensor  = torch.tensor( test2_morgan.values ).float()\n",
    "test3_morgan_tensor  = torch.tensor( test3_morgan.values ).float()"
   ]
  },
  {
   "cell_type": "code",
   "execution_count": 18,
   "id": "d6e3d9c5-cc96-499d-9b60-7a519069240a",
   "metadata": {
    "tags": []
   },
   "outputs": [
    {
     "name": "stderr",
     "output_type": "stream",
     "text": [
      "100it [00:00, 169.72it/s]\n",
      "9it [00:00, 202.80it/s]\n",
      "61it [00:00, 289.77it/s]\n"
     ]
    }
   ],
   "source": [
    "# for idx, (name, mol) in tqdm( enumerate( train_mols.items() ) ):\n",
    "#     graph_labels = { \"label\": torch.tensor( [train_label[idx]] ).float(), \"g_morgan\": train_morgan_tensor[idx] }\n",
    "\n",
    "#     try:\n",
    "#         g = mol_to_graph(mol)\n",
    "#         save_graphs( f'../data/train/{g_name}.bin', g, graph_labels )\n",
    "        \n",
    "#     except Exception as E:        \n",
    "#         print(E, name)\n",
    "\n",
    "for idx, (name, mol) in tqdm( enumerate( test1_mols.items() ) ):\n",
    "    graph_labels = { \"label\": torch.tensor( [test1_label[idx]] ).float(), \"g_morgan\": test1_morgan_tensor[idx] }\n",
    "\n",
    "    try:\n",
    "        g = mol_to_graph(mol)\n",
    "        save_graphs( f'../data/test1/{idx}.bin', g, graph_labels )\n",
    "        \n",
    "    except Exception as E:        \n",
    "        print(E, name)\n",
    "\n",
    "for idx, (name, mol) in tqdm( enumerate( test2_mols.items() ) ):\n",
    "    graph_labels = { \"label\": torch.tensor( [test2_label[idx]] ).float(), \"g_morgan\": test2_morgan_tensor[idx] }\n",
    "\n",
    "    try:\n",
    "        g = mol_to_graph(mol)\n",
    "        save_graphs( f'../data/test2/{idx}.bin', g, graph_labels )\n",
    "        \n",
    "    except Exception as E:        \n",
    "        print(E, name)\n",
    "\n",
    "for idx, (name, mol) in tqdm( enumerate( test3_mols.items() ) ):\n",
    "    graph_labels = { \"label\": torch.tensor( [test3_label[idx]] ).float(), \"g_morgan\": test3_morgan_tensor[idx] }\n",
    "\n",
    "    try:\n",
    "        g = mol_to_graph(mol)\n",
    "        save_graphs( f'../data/test3/{idx}.bin', g, graph_labels )\n",
    "        \n",
    "    except Exception as E:        \n",
    "        print(E, name)"
   ]
  },
  {
   "cell_type": "code",
   "execution_count": 10,
   "id": "07f7c558-c0d7-46f4-89ac-bed709a7a4af",
   "metadata": {
    "scrolled": true
   },
   "outputs": [
    {
     "name": "stderr",
     "output_type": "stream",
     "text": [
      "91it [00:00, 216.05it/s]\n"
     ]
    }
   ],
   "source": [
    "arontier_smi = open( \"/home/sim/project/MP/_PAST/MSP/DACON/data/arontier_junsuha.smi\" ).readlines()\n",
    "arontier_mols = {  line.split('\\t')[1].strip() : Chem.MolFromSmiles( line.split('\\t')[0] ) for line in arontier_smi}\n",
    "arontier_mols\n",
    "\n",
    "for idx, (name, mol) in tqdm( enumerate( arontier_mols.items() ) ):\n",
    "    graph_labels = { \"label\": torch.tensor( [0] ).float(), \"g_morgan\": torch.tensor( [0] ).float() }\n",
    "\n",
    "\n",
    "    try:\n",
    "        g = mol_to_graph(mol)\n",
    "        save_graphs( f'../data/arontier/{name}.bin', g, graph_labels )\n",
    "        \n",
    "    except Exception as E:        \n",
    "        print(E, name)"
   ]
  },
  {
   "cell_type": "code",
   "execution_count": 5,
   "id": "36783068-acf4-419a-947c-7e09085c7f72",
   "metadata": {},
   "outputs": [
    {
     "name": "stderr",
     "output_type": "stream",
     "text": [
      "0it [00:00, ?it/s]/home/sim/anaconda3/envs/MSP/lib/python3.8/site-packages/dgl/heterograph.py:92: DGLWarning: Recommend creating graphs by `dgl.graph(data)` instead of `dgl.DGLGraph(data)`.\n",
      "  dgl_warning(\n",
      "3it [00:00, 28.55it/s]"
     ]
    },
    {
     "name": "stdout",
     "output_type": "stream",
     "text": [
      "'NoneType' object has no attribute 'GetNumAtoms' index\n"
     ]
    },
    {
     "name": "stderr",
     "output_type": "stream",
     "text": [
      "133it [00:00, 164.10it/s]\n"
     ]
    }
   ],
   "source": [
    "arontier_smi = open( \"/home/sim/project/MP/_PAST/MSP/Graph/data/0_best.tsv\" ).readlines()\n",
    "arontier_mols = {  line.split('\\t')[1].strip() : Chem.MolFromSmiles( line.split('\\t')[0] ) for line in arontier_smi}\n",
    "arontier_mols\n",
    "\n",
    "for idx, (name, mol) in tqdm( enumerate( arontier_mols.items() ) ):\n",
    "    graph_labels = { \"label\": torch.tensor( [0] ).float(), \"g_morgan\": torch.tensor( [0] ).float() }\n",
    "\n",
    "\n",
    "    try:\n",
    "        g = mol_to_graph(mol)\n",
    "        save_graphs( f'../data/arontier_0308/{name}.bin', g, graph_labels )\n",
    "        \n",
    "    except Exception as E:        \n",
    "        print(E, name)"
   ]
  },
  {
   "cell_type": "code",
   "execution_count": null,
   "id": "004e1b83-a038-4377-aad8-d6e0ea5542e4",
   "metadata": {},
   "outputs": [],
   "source": []
  }
 ],
 "metadata": {
  "kernelspec": {
   "display_name": "MSP",
   "language": "python",
   "name": "msp"
  },
  "language_info": {
   "codemirror_mode": {
    "name": "ipython",
    "version": 3
   },
   "file_extension": ".py",
   "mimetype": "text/x-python",
   "name": "python",
   "nbconvert_exporter": "python",
   "pygments_lexer": "ipython3",
   "version": "3.8.16"
  }
 },
 "nbformat": 4,
 "nbformat_minor": 5
}
